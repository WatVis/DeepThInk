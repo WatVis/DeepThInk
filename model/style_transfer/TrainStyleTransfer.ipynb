{
 "cells": [
  {
   "cell_type": "markdown",
   "metadata": {},
   "source": [
    "# Train Fast-Neural-Style model"
   ]
  },
  {
   "cell_type": "markdown",
   "metadata": {},
   "source": [
    "Dataset: COCO 2014 Training images dataset (82k images / 13GB)"
   ]
  },
  {
   "cell_type": "markdown",
   "metadata": {},
   "source": [
    "# Set paths"
   ]
  },
  {
   "cell_type": "code",
   "execution_count": 1,
   "metadata": {},
   "outputs": [],
   "source": [
    "offset = \"./\"\n",
    "path_to_neural_style = f\"./pytorch_examples/examples/fast_neural_style/neural_style/neural_style.py\"\n",
    "path_to_train_dataset = f\"{offset}datasets/train_images/\"\n",
    "path_to_style_dir = f\"{offset}datasets/style_images/\"\n",
    "path_to_save_model_dir = f\"{offset}saved_models/trained_models/\"\n",
    "style_image = {\n",
    "    0: \"starry_night.jpg\",\n",
    "    1: \"other.jpg\"\n",
    "}\n",
    "\n",
    "selected_style_image = style_image[0]\n",
    "\n",
    "path_to_style_image = f\"{path_to_style_dir}{selected_style_image}\""
   ]
  },
  {
   "cell_type": "markdown",
   "metadata": {},
   "source": [
    "# Hyperparameters"
   ]
  },
  {
   "cell_type": "code",
   "execution_count": 9,
   "metadata": {},
   "outputs": [],
   "source": [
    "batch_size = 4\n",
    "log_interval = 100"
   ]
  },
  {
   "cell_type": "markdown",
   "metadata": {},
   "source": [
    "# Train model"
   ]
  },
  {
   "cell_type": "code",
   "execution_count": null,
   "metadata": {},
   "outputs": [
    {
     "name": "stdout",
     "output_type": "stream",
     "text": [
      "/mnt/427bdd3d-17db-4d44-b722-f3e4fd35d808/projects/gauGAN/gaugan-venv/lib/python3.8/site-packages/torch/nn/functional.py:718: UserWarning: Named tensors and all their associated APIs are an experimental feature and subject to change. Please do not use them for anything important until they are released as stable. (Triggered internally at  /pytorch/c10/core/TensorImpl.h:1156.)\n",
      "  return torch.max_pool2d(input, kernel_size, stride, padding, dilation, ceil_mode)\n",
      "Tue Jul 13 23:18:42 2021\tEpoch 1:\t[400/82783]\tcontent: 809673.422813\tstyle: 3969967.151250\ttotal: 4779640.574063\n",
      "Tue Jul 13 23:19:00 2021\tEpoch 1:\t[800/82783]\tcontent: 878786.194219\tstyle: 2450695.805312\ttotal: 3329481.999531\n",
      "Tue Jul 13 23:19:18 2021\tEpoch 1:\t[1200/82783]\tcontent: 898876.115104\tstyle: 1803829.087917\ttotal: 2702705.203021\n",
      "Tue Jul 13 23:19:36 2021\tEpoch 1:\t[1600/82783]\tcontent: 903768.554297\tstyle: 1440883.829141\ttotal: 2344652.383437\n",
      "Tue Jul 13 23:19:54 2021\tEpoch 1:\t[2000/82783]\tcontent: 898898.971312\tstyle: 1209208.157125\ttotal: 2108107.128437\n",
      "Tue Jul 13 23:20:12 2021\tEpoch 1:\t[2400/82783]\tcontent: 891710.746198\tstyle: 1049551.749193\ttotal: 1941262.495391\n",
      "Tue Jul 13 23:20:30 2021\tEpoch 1:\t[2800/82783]\tcontent: 882831.234598\tstyle: 932551.216451\ttotal: 1815382.451049\n",
      "Tue Jul 13 23:20:48 2021\tEpoch 1:\t[3200/82783]\tcontent: 872200.885508\tstyle: 842960.392246\ttotal: 1715161.277754\n",
      "Tue Jul 13 23:21:06 2021\tEpoch 1:\t[3600/82783]\tcontent: 862070.548507\tstyle: 772075.256441\ttotal: 1634145.804948\n",
      "Tue Jul 13 23:21:24 2021\tEpoch 1:\t[4000/82783]\tcontent: 851537.292156\tstyle: 714545.144266\ttotal: 1566082.436422\n",
      "Tue Jul 13 23:21:42 2021\tEpoch 1:\t[4400/82783]\tcontent: 841496.847415\tstyle: 667051.822585\ttotal: 1508548.670000\n"
     ]
    }
   ],
   "source": [
    "! python {path_to_neural_style} train \\\n",
    "    --dataset {path_to_train_dataset} \\\n",
    "    --style-image {path_to_style_image} \\\n",
    "    --save-model-dir {path_to_save_model_dir} \\\n",
    "    --epochs 2 \\\n",
    "    --cuda 1 \\\n",
    "    --batch-size {batch_size} \\\n",
    "    --log-interval {log_interval}\n"
   ]
  }
 ],
 "metadata": {
  "kernelspec": {
   "display_name": "Python (gaugan)",
   "language": "python",
   "name": "gaugan-env"
  },
  "language_info": {
   "codemirror_mode": {
    "name": "ipython",
    "version": 3
   },
   "file_extension": ".py",
   "mimetype": "text/x-python",
   "name": "python",
   "nbconvert_exporter": "python",
   "pygments_lexer": "ipython3",
   "version": "3.8.5"
  }
 },
 "nbformat": 4,
 "nbformat_minor": 4
}
