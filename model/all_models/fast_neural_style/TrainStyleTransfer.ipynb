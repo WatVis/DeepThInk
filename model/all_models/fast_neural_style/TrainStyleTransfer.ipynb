{
 "cells": [
  {
   "cell_type": "markdown",
   "metadata": {},
   "source": [
    "# Train Fast-Neural-Style model"
   ]
  },
  {
   "cell_type": "markdown",
   "metadata": {},
   "source": [
    "Dataset: COCO 2014 Training images dataset (82k images / 13GB)"
   ]
  },
  {
   "cell_type": "markdown",
   "metadata": {},
   "source": [
    "# Set paths"
   ]
  },
  {
   "cell_type": "code",
   "execution_count": 1,
   "metadata": {},
   "outputs": [],
   "source": [
    "offset = \"./\"\n",
    "path_to_neural_style = f\"{offset}pytorch_examples/examples/fast_neural_style/neural_style/neural_style.py\"\n",
    "path_to_train_dataset = f\"{offset}datasets/train_images/\"\n",
    "path_to_style_dir = f\"{offset}datasets/style_images/\"\n",
    "path_to_save_model_dir = f\"{offset}saved_models/trained_models/\"\n",
    "path_to_model_checkpoints = f\"{offset}saved_models/trained_models/model_checkpoints\"\n",
    "\n",
    "style_image = {\n",
    "    0: \"starry_night.jpg\",\n",
    "    1: \"mosaic.jpg\",\n",
    "    2: \"the_great_wave_off_kanagawa.jpg\"\n",
    "}\n",
    "\n",
    "selected_style_image = style_image[2]\n",
    "\n",
    "path_to_style_image = f\"{path_to_style_dir}{selected_style_image}\""
   ]
  },
  {
   "cell_type": "markdown",
   "metadata": {},
   "source": [
    "# Hyperparameters"
   ]
  },
  {
   "cell_type": "code",
   "execution_count": 2,
   "metadata": {},
   "outputs": [],
   "source": [
    "batch_size = 4\n",
    "log_interval = 100\n",
    "checkpoint_interval = 10000\n",
    "n_epochs = 10"
   ]
  },
  {
   "cell_type": "markdown",
   "metadata": {},
   "source": [
    "# Train model"
   ]
  },
  {
   "cell_type": "code",
   "execution_count": 3,
   "metadata": {
    "tags": []
   },
   "outputs": [
    {
     "name": "stdout",
     "output_type": "stream",
     "text": [
      "Traceback (most recent call last):\n",
      "  File \"./pytorch_examples/examples/fast_neural_style/neural_style/neural_style.py\", line 240, in <module>\n",
      "    main()\n",
      "  File \"./pytorch_examples/examples/fast_neural_style/neural_style/neural_style.py\", line 234, in main\n",
      "    train(args)\n",
      "  File \"./pytorch_examples/examples/fast_neural_style/neural_style/neural_style.py\", line 43, in train\n",
      "    train_dataset = datasets.ImageFolder(args.dataset, transform)\n",
      "  File \"/home/bai/anaconda3/envs/python38/lib/python3.8/site-packages/torchvision/datasets/folder.py\", line 309, in __init__\n",
      "    super().__init__(\n",
      "  File \"/home/bai/anaconda3/envs/python38/lib/python3.8/site-packages/torchvision/datasets/folder.py\", line 144, in __init__\n",
      "    classes, class_to_idx = self.find_classes(self.root)\n",
      "  File \"/home/bai/anaconda3/envs/python38/lib/python3.8/site-packages/torchvision/datasets/folder.py\", line 218, in find_classes\n",
      "    return find_classes(directory)\n",
      "  File \"/home/bai/anaconda3/envs/python38/lib/python3.8/site-packages/torchvision/datasets/folder.py\", line 40, in find_classes\n",
      "    classes = sorted(entry.name for entry in os.scandir(directory) if entry.is_dir())\n",
      "FileNotFoundError: [Errno 2] No such file or directory: './datasets/train_images/'\n"
     ]
    }
   ],
   "source": [
    "! python3 {path_to_neural_style} train \\\n",
    "    --dataset {path_to_train_dataset} \\\n",
    "    --style-image {path_to_style_image} \\\n",
    "    --save-model-dir {path_to_save_model_dir} \\\n",
    "    --epochs {n_epochs} \\\n",
    "    --cuda 1 \\\n",
    "    --batch-size {batch_size} \\\n",
    "    --log-interval {log_interval} \\\n",
    "    --checkpoint-model-dir {path_to_model_checkpoints} \\\n",
    "    --checkpoint-interval {checkpoint_interval}\n"
   ]
  },
  {
   "cell_type": "code",
   "execution_count": 4,
   "metadata": {},
   "outputs": [
    {
     "name": "stdout",
     "output_type": "stream",
     "text": [
      "Fri Jan 20 18:48:36 2023       \n",
      "+-----------------------------------------------------------------------------+\n",
      "| NVIDIA-SMI 527.92.01    Driver Version: 528.02       CUDA Version: 12.0     |\n",
      "|-------------------------------+----------------------+----------------------+\n",
      "| GPU  Name        Persistence-M| Bus-Id        Disp.A | Volatile Uncorr. ECC |\n",
      "| Fan  Temp  Perf  Pwr:Usage/Cap|         Memory-Usage | GPU-Util  Compute M. |\n",
      "|                               |                      |               MIG M. |\n",
      "|===============================+======================+======================|\n",
      "|   0  NVIDIA GeForce ...  On   | 00000000:01:00.0  On |                  N/A |\n",
      "| N/A   50C    P8    14W / 125W |   6249MiB /  8192MiB |     12%      Default |\n",
      "|                               |                      |                  N/A |\n",
      "+-------------------------------+----------------------+----------------------+\n",
      "                                                                               \n",
      "+-----------------------------------------------------------------------------+\n",
      "| Processes:                                                                  |\n",
      "|  GPU   GI   CI        PID   Type   Process name                  GPU Memory |\n",
      "|        ID   ID                                                   Usage      |\n",
      "|=============================================================================|\n",
      "|    0   N/A  N/A       124      G   /Xwayland                       N/A      |\n",
      "|    0   N/A  N/A      1932      C   /python3.8                      N/A      |\n",
      "|    0   N/A  N/A     14534      C   /python3.8                      N/A      |\n",
      "+-----------------------------------------------------------------------------+\n"
     ]
    }
   ],
   "source": [
    "!nvidia-smi"
   ]
  }
 ],
 "metadata": {
  "kernelspec": {
   "display_name": "Python 3.8.15 ('python38')",
   "language": "python",
   "name": "python3"
  },
  "language_info": {
   "codemirror_mode": {
    "name": "ipython",
    "version": 3
   },
   "file_extension": ".py",
   "mimetype": "text/x-python",
   "name": "python",
   "nbconvert_exporter": "python",
   "pygments_lexer": "ipython3",
   "version": "3.8.15"
  },
  "vscode": {
   "interpreter": {
    "hash": "8f75138c1297a3af202b81ab39136e343f81eb0792f99a01c9236b1d72bbc1de"
   }
  }
 },
 "nbformat": 4,
 "nbformat_minor": 4
}
