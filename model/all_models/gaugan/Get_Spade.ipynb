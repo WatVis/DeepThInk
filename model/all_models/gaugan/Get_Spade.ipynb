{
 "cells": [
  {
   "cell_type": "code",
   "execution_count": 1,
   "metadata": {},
   "outputs": [],
   "source": [
    "import sys\n",
    "path_to_spade=f'''./SPADE_pretrained/SPADE'''\n",
    "if path_to_spade not in sys.path:\n",
    "    sys.path.append(path_to_spade)"
   ]
  },
  {
   "cell_type": "code",
   "execution_count": 2,
   "metadata": {},
   "outputs": [],
   "source": [
    "from models.pix2pix_model import Pix2PixModel"
   ]
  },
  {
   "cell_type": "code",
   "execution_count": 3,
   "metadata": {},
   "outputs": [],
   "source": [
    "import torch\n",
    "from easydict import EasyDict\n",
    "import os"
   ]
  },
  {
   "cell_type": "code",
   "execution_count": 4,
   "metadata": {},
   "outputs": [],
   "source": [
    "def parse_opt_file(path):\n",
    "    file = open(path, 'rb')\n",
    "    opt = {}\n",
    "    for line in file.readlines():\n",
    "        line = str(line).split(': ')\n",
    "        key = line[0].split(' ')[-1]\n",
    "        value = line[1].split(' ')[0]\n",
    "        opt[key] = value\n",
    "    return opt"
   ]
  },
  {
   "cell_type": "code",
   "execution_count": 5,
   "metadata": {},
   "outputs": [],
   "source": [
    "path_to_spade_D = \"./SPADE_pretrained/SPADE_weights/landscapes/latest_net_D.pth\"\n",
    "path_to_spade_G = \"./SPADE_pretrained/SPADE_weights/landscapes/latest_net_G.pth\"\n",
    "path_to_spade_opt = \"./SPADE_pretrained/SPADE_weights/landscapes/opt.txt\"\n",
    "\n",
    "\n",
    "D = torch.load(path_to_spade_D)"
   ]
  },
  {
   "cell_type": "code",
   "execution_count": 6,
   "metadata": {
    "collapsed": true,
    "jupyter": {
     "outputs_hidden": true
    },
    "tags": []
   },
   "outputs": [
    {
     "name": "stdout",
     "output_type": "stream",
     "text": [
      "Opt is {'isTrain': False, 'checkpoints_dir': './SPADE_pretrained/SPADE_weights/', 'name': 'landscapes', 'aspect_ratio': 1.0, 'load_size': 512, 'crop_size': 512, 'no_instance': True, 'preprocess_mode': 'scale_width', 'contain_dontcare_label': False, 'gpu_ids': '0,1,2,3', 'netG': 'spade', 'ngf': 64, 'num_upsampling_layers': 'normal', 'use_vae': False, 'label_nc': 182, 'semantic_nc': 182, 'norm_G': 'spectralspadesyncbatch3x3', 'init_type': 'xavier', 'init_variance': 0.02, 'which_epoch': 'latest'}\n",
      "Network [SPADEGenerator] was created. Total number of parameters: 97.4 million. To see the architecture, do print(network).\n",
      "Unexpected exception formatting exception. Falling back to standard exception\n"
     ]
    },
    {
     "name": "stderr",
     "output_type": "stream",
     "text": [
      "Traceback (most recent call last):\n",
      "  File \"/home/bai/.local/lib/python3.8/site-packages/IPython/core/interactiveshell.py\", line 3442, in run_code\n",
      "    exec(code_obj, self.user_global_ns, self.user_ns)\n",
      "  File \"/tmp/ipykernel_18028/427747365.py\", line 32, in <module>\n",
      "    model = Pix2PixModel(opt)\n",
      "  File \"./SPADE_pretrained/SPADE/models/pix2pix_model.py\", line 25, in __init__\n",
      "    self.netG, self.netD, self.netE = self.initialize_networks(opt)\n",
      "  File \"./SPADE_pretrained/SPADE/models/pix2pix_model.py\", line 96, in initialize_networks\n",
      "    netG = util.load_network(netG, 'G', opt.which_epoch, opt)\n",
      "  File \"./SPADE_pretrained/SPADE/util/util.py\", line 207, in load_network\n",
      "    weights = torch.load(save_path)\n",
      "  File \"/home/bai/.local/lib/python3.8/site-packages/torch/serialization.py\", line 594, in load\n",
      "    with _open_file_like(f, 'rb') as opened_file:\n",
      "  File \"/home/bai/.local/lib/python3.8/site-packages/torch/serialization.py\", line 230, in _open_file_like\n",
      "    return _open_file(name_or_buffer, mode)\n",
      "  File \"/home/bai/.local/lib/python3.8/site-packages/torch/serialization.py\", line 211, in __init__\n",
      "    super(_open_file, self).__init__(open(name, mode))\n",
      "FileNotFoundError: [Errno 2] No such file or directory: './SPADE_pretrained/SPADE_weights/landscapes/latest_net_G.pth'\n",
      "\n",
      "During handling of the above exception, another exception occurred:\n",
      "\n",
      "Traceback (most recent call last):\n",
      "  File \"/home/bai/.local/lib/python3.8/site-packages/IPython/core/interactiveshell.py\", line 2057, in showtraceback\n",
      "    stb = self.InteractiveTB.structured_traceback(\n",
      "  File \"/home/bai/.local/lib/python3.8/site-packages/IPython/core/ultratb.py\", line 1118, in structured_traceback\n",
      "    return FormattedTB.structured_traceback(\n",
      "  File \"/home/bai/.local/lib/python3.8/site-packages/IPython/core/ultratb.py\", line 1012, in structured_traceback\n",
      "    return VerboseTB.structured_traceback(\n",
      "  File \"/home/bai/.local/lib/python3.8/site-packages/IPython/core/ultratb.py\", line 865, in structured_traceback\n",
      "    formatted_exception = self.format_exception_as_a_whole(etype, evalue, etb, number_of_lines_of_context,\n",
      "  File \"/home/bai/.local/lib/python3.8/site-packages/IPython/core/ultratb.py\", line 818, in format_exception_as_a_whole\n",
      "    frames.append(self.format_record(r))\n",
      "  File \"/home/bai/.local/lib/python3.8/site-packages/IPython/core/ultratb.py\", line 736, in format_record\n",
      "    result += ''.join(_format_traceback_lines(frame_info.lines, Colors, self.has_colors, lvals))\n",
      "  File \"/home/bai/.local/lib/python3.8/site-packages/stack_data/utils.py\", line 144, in cached_property_wrapper\n",
      "    value = obj.__dict__[self.func.__name__] = self.func(obj)\n",
      "  File \"/home/bai/.local/lib/python3.8/site-packages/stack_data/core.py\", line 734, in lines\n",
      "    pieces = self.included_pieces\n",
      "  File \"/home/bai/.local/lib/python3.8/site-packages/stack_data/utils.py\", line 144, in cached_property_wrapper\n",
      "    value = obj.__dict__[self.func.__name__] = self.func(obj)\n",
      "  File \"/home/bai/.local/lib/python3.8/site-packages/stack_data/core.py\", line 677, in included_pieces\n",
      "    scope_pieces = self.scope_pieces\n",
      "  File \"/home/bai/.local/lib/python3.8/site-packages/stack_data/utils.py\", line 144, in cached_property_wrapper\n",
      "    value = obj.__dict__[self.func.__name__] = self.func(obj)\n",
      "  File \"/home/bai/.local/lib/python3.8/site-packages/stack_data/core.py\", line 614, in scope_pieces\n",
      "    scope_start, scope_end = self.source.line_range(self.scope)\n",
      "  File \"/home/bai/.local/lib/python3.8/site-packages/stack_data/core.py\", line 178, in line_range\n",
      "    return line_range(self.asttext(), node)\n",
      "  File \"/home/bai/.local/lib/python3.8/site-packages/executing/executing.py\", line 428, in asttext\n",
      "    self._asttext = ASTText(self.text, tree=self.tree, filename=self.filename)\n",
      "  File \"/home/bai/.local/lib/python3.8/site-packages/asttokens/asttokens.py\", line 307, in __init__\n",
      "    super(ASTText, self).__init__(source_text, filename)\n",
      "  File \"/home/bai/.local/lib/python3.8/site-packages/asttokens/asttokens.py\", line 44, in __init__\n",
      "    source_text = six.ensure_text(source_text)\n",
      "AttributeError: module 'six' has no attribute 'ensure_text'\n"
     ]
    }
   ],
   "source": [
    "all_checkpoints_dir = \"./SPADE_pretrained/SPADE_weights/\"\n",
    "checkpoint_dir = \"./SPADE_pretrained/SPADE_weights/landscapes/\"\n",
    "model_name = 'landscapes'\n",
    "with open(os.path.join(checkpoint_dir, 'classes_list.txt'), 'r') as classes_file:\n",
    "    classes = eval(classes_file.read())\n",
    "\n",
    "opt_file = os.path.join(checkpoint_dir, 'opt.txt')\n",
    "parsed_opt = parse_opt_file(opt_file)\n",
    "\n",
    "opt = EasyDict({})\n",
    "opt.isTrain = False\n",
    "opt.checkpoints_dir = all_checkpoints_dir\n",
    "opt.name = model_name\n",
    "opt.aspect_ratio = float(parsed_opt['aspect_ratio'])\n",
    "opt.load_size = int(parsed_opt['load_size'])\n",
    "opt.crop_size = int(parsed_opt['crop_size'])\n",
    "opt.no_instance = True if parsed_opt['no_instance']=='True' else False\n",
    "opt.preprocess_mode = parsed_opt['preprocess_mode']\n",
    "opt.contain_dontcare_label = True if parsed_opt['contain_dontcare_label']=='True' else False\n",
    "opt.gpu_ids = parsed_opt['gpu_ids']\n",
    "opt.netG = parsed_opt['netG']\n",
    "opt.ngf = int(parsed_opt['ngf'])\n",
    "opt.num_upsampling_layers = parsed_opt['num_upsampling_layers']\n",
    "opt.use_vae = True if parsed_opt['use_vae']=='True' else False  \n",
    "opt.label_nc = int(parsed_opt['label_nc'])\n",
    "opt.semantic_nc = opt.label_nc + (1 if opt.contain_dontcare_label else 0) + (0 if opt.no_instance else 1)\n",
    "opt.norm_G = parsed_opt['norm_G']\n",
    "opt.init_type = parsed_opt['init_type']\n",
    "opt.init_variance = float(parsed_opt['init_variance'])\n",
    "opt.which_epoch = parsed_opt['which_epoch']\n",
    "print(\"Opt is\", opt)\n",
    "model = Pix2PixModel(opt)\n",
    "model.eval()\n"
   ]
  },
  {
   "cell_type": "code",
   "execution_count": null,
   "metadata": {},
   "outputs": [],
   "source": []
  }
 ],
 "metadata": {
  "kernelspec": {
   "display_name": "Python 3.8.0 64-bit",
   "language": "python",
   "name": "python3"
  },
  "language_info": {
   "codemirror_mode": {
    "name": "ipython",
    "version": 3
   },
   "file_extension": ".py",
   "mimetype": "text/x-python",
   "name": "python",
   "nbconvert_exporter": "python",
   "pygments_lexer": "ipython3",
   "version": "3.8.0"
  },
  "vscode": {
   "interpreter": {
    "hash": "31f2aee4e71d21fbe5cf8b01ff0e069b9275f58929596ceb00d14d90e3e16cd6"
   }
  }
 },
 "nbformat": 4,
 "nbformat_minor": 4
}
