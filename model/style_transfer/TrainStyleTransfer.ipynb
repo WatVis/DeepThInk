{
 "cells": [
  {
   "cell_type": "markdown",
   "metadata": {},
   "source": [
    "# Train Fast-Neural-Style model"
   ]
  },
  {
   "cell_type": "markdown",
   "metadata": {},
   "source": [
    "Dataset: COCO 2014 Training images dataset (13GB)"
   ]
  },
  {
   "cell_type": "markdown",
   "metadata": {},
   "source": [
    "# Set paths"
   ]
  },
  {
   "cell_type": "code",
   "execution_count": 1,
   "metadata": {},
   "outputs": [],
   "source": [
    "offset = \"./\"\n",
    "path_to_neural_style = f\"./pytorch_examples/examples/fast_neural_style/neural_style/neural_style.py\"\n",
    "path_to_train_dataset = f\"{offset}datasets/train_images/\"\n",
    "path_to_style_dir = f\"{offset}datasets/style_images/\"\n",
    "path_to_save_model_dir = f\"{offset}saved_models/trained_models/\"\n",
    "style_image = {\n",
    "    0: \"starry_night.jpg\",\n",
    "    1: \"other.jpg\"\n",
    "}\n",
    "\n",
    "selected_style_image = style_image[0]\n",
    "\n",
    "path_to_style_image = f\"{path_to_style_dir}{selected_style_image}\""
   ]
  },
  {
   "cell_type": "markdown",
   "metadata": {},
   "source": [
    "# Hyperparameters"
   ]
  },
  {
   "cell_type": "code",
   "execution_count": 9,
   "metadata": {},
   "outputs": [],
   "source": [
    "batch_size = 4\n",
    "log_interval = 100"
   ]
  },
  {
   "cell_type": "markdown",
   "metadata": {},
   "source": [
    "# Train model"
   ]
  },
  {
   "cell_type": "code",
   "execution_count": 10,
   "metadata": {},
   "outputs": [
    {
     "ename": "IndentationError",
     "evalue": "unexpected indent (<ipython-input-10-0a11065134e8>, line 2)",
     "output_type": "error",
     "traceback": [
      "\u001b[0;36m  File \u001b[0;32m\"<ipython-input-10-0a11065134e8>\"\u001b[0;36m, line \u001b[0;32m2\u001b[0m\n\u001b[0;31m    --log-interval {log_interval}\u001b[0m\n\u001b[0m    ^\u001b[0m\n\u001b[0;31mIndentationError\u001b[0m\u001b[0;31m:\u001b[0m unexpected indent\n"
     ]
    }
   ],
   "source": [
    "! python {path_to_neural_style} train \\\n",
    "    --dataset {path_to_train_dataset} \\\n",
    "    --style-image {path_to_style_image} \\\n",
    "    --save-model-dir {path_to_save_model_dir} \\\n",
    "    --epochs 2 \\\n",
    "    --cuda 1 \\\n",
    "    --batch-size {batch_size} \\\n",
    "    --log-interval {log_interval}\n"
   ]
  }
 ],
 "metadata": {
  "kernelspec": {
   "display_name": "Python (gaugan)",
   "language": "python",
   "name": "gaugan-env"
  },
  "language_info": {
   "codemirror_mode": {
    "name": "ipython",
    "version": 3
   },
   "file_extension": ".py",
   "mimetype": "text/x-python",
   "name": "python",
   "nbconvert_exporter": "python",
   "pygments_lexer": "ipython3",
   "version": "3.8.5"
  }
 },
 "nbformat": 4,
 "nbformat_minor": 4
}
